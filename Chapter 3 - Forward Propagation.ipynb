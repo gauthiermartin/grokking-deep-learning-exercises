{
 "metadata": {
  "language_info": {
   "codemirror_mode": {
    "name": "ipython",
    "version": 3
   },
   "file_extension": ".py",
   "mimetype": "text/x-python",
   "name": "python",
   "nbconvert_exporter": "python",
   "pygments_lexer": "ipython3",
   "version": "3.8.5-final"
  },
  "orig_nbformat": 2,
  "kernelspec": {
   "name": "python38564bitdeeplearningcondac3e34e4f112e4bfcbb48a5907a71217c",
   "display_name": "Python 3.8.5 64-bit ('deep-learning': conda)"
  }
 },
 "nbformat": 4,
 "nbformat_minor": 2,
 "cells": [
  {
   "cell_type": "markdown",
   "metadata": {},
   "source": [
    "# Chapter 3 - Forward Propagation"
   ]
  },
  {
   "cell_type": "markdown",
   "metadata": {},
   "source": [
    "### Step 1 : Prediction"
   ]
  },
  {
   "cell_type": "markdown",
   "metadata": {},
   "source": [
    "- Knobs : Are an abstraction of what is in facts called weights \n",
    "- Shape : Means the number of columns or datapoints we are processing at once\n"
   ]
  },
  {
   "cell_type": "code",
   "execution_count": 2,
   "metadata": {},
   "outputs": [],
   "source": [
    "## Exemple with a single datapoint on an empty network\n",
    "def  neural_network(input, weight):\n",
    "    prediction = input * weight\n",
    "\n",
    "    return prediction\n"
   ]
  },
  {
   "cell_type": "code",
   "execution_count": 5,
   "metadata": {
    "tags": []
   },
   "outputs": [],
   "source": [
    "# Weight\n",
    "weight = 0.1\n",
    "\n",
    "# Data\n",
    "number_of_toes = [8.5, 9.5, 10, 9]\n",
    "\n",
    "# NN Input\n",
    "input  =  number_of_toes[0]\n"
   ]
  },
  {
   "cell_type": "code",
   "execution_count": 6,
   "metadata": {
    "tags": []
   },
   "outputs": [
    {
     "output_type": "stream",
     "name": "stdout",
     "text": "0.8500000000000001\n"
    }
   ],
   "source": [
    "pred = neural_network(input, weight)\n",
    "print(pred)"
   ]
  }
 ]
}